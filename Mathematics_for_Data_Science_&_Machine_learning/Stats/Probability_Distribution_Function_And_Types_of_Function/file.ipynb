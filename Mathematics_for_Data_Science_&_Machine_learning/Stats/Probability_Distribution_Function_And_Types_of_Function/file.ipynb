{
 "cells": [
  {
   "cell_type": "markdown",
   "id": "0c74eb99",
   "metadata": {},
   "source": [
    "P(X = k) = (e-λ × λk) / k! "
   ]
  },
  {
   "cell_type": "markdown",
   "id": "e1831c29",
   "metadata": {},
   "source": []
  },
  {
   "cell_type": "markdown",
   "id": "b29bde7f",
   "metadata": {},
   "source": []
  },
  {
   "cell_type": "markdown",
   "id": "412ece52",
   "metadata": {},
   "source": [
    "e = 2.71828"
   ]
  },
  {
   "cell_type": "code",
   "execution_count": 4,
   "id": "dbbf1ba8",
   "metadata": {},
   "outputs": [
    {
     "data": {
      "text/plain": [
       "0.10080449999999999"
      ]
     },
     "execution_count": 4,
     "metadata": {},
     "output_type": "execute_result"
    }
   ],
   "source": [
    "243*0.04978/120"
   ]
  },
  {
   "cell_type": "code",
   "execution_count": 5,
   "id": "d123f9d8",
   "metadata": {},
   "outputs": [
    {
     "data": {
      "text/plain": [
       "0.04978715989146399"
      ]
     },
     "execution_count": 5,
     "metadata": {},
     "output_type": "execute_result"
    }
   ],
   "source": [
    "1/20.0855"
   ]
  },
  {
   "cell_type": "code",
   "execution_count": 7,
   "id": "a9750dfa",
   "metadata": {},
   "outputs": [],
   "source": [
    "# x = 5 and lambda = 3\n",
    "\n",
    "\n",
    "P = 1/(2.71828)**3 * 3**5 / 120"
   ]
  },
  {
   "cell_type": "code",
   "execution_count": 8,
   "id": "3dea20e4",
   "metadata": {},
   "outputs": [
    {
     "data": {
      "text/plain": [
       "0.10081901689327641"
      ]
     },
     "execution_count": 8,
     "metadata": {},
     "output_type": "execute_result"
    }
   ],
   "source": [
    "P"
   ]
  },
  {
   "cell_type": "code",
   "execution_count": null,
   "id": "934b6676",
   "metadata": {},
   "outputs": [],
   "source": []
  },
  {
   "cell_type": "markdown",
   "id": "ba19d3fd",
   "metadata": {},
   "source": [
    "Empirical Rule states that,\n",
    "\n",
    "### 68% of the data approximately fall within one standard deviation of the mean, i.e. it falls between {Mean - One Standard Deviation, and Mean + One Standard Deviation}\n",
    "### 95% of the data approximately fall within two standard deviations of the mean, i.e. it falls between {Mean - Two Standard Deviation, and Mean + Two Standard Deviation}\n",
    "### 99.7% of the data approximately fall within a third standard deviation of the mean, i.e. it falls between {Mean - Third Standard Deviation, and Mean + Third Standard Deviation}"
   ]
  }
 ],
 "metadata": {
  "kernelspec": {
   "display_name": "Python 3",
   "language": "python",
   "name": "python3"
  },
  "language_info": {
   "codemirror_mode": {
    "name": "ipython",
    "version": 3
   },
   "file_extension": ".py",
   "mimetype": "text/x-python",
   "name": "python",
   "nbconvert_exporter": "python",
   "pygments_lexer": "ipython3",
   "version": "3.12.0"
  }
 },
 "nbformat": 4,
 "nbformat_minor": 5
}
